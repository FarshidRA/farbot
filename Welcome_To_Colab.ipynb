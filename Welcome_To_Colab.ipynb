{
  "cells": [
    {
      "cell_type": "markdown",
      "metadata": {
        "id": "view-in-github",
        "colab_type": "text"
      },
      "source": [
        "<a href=\"https://colab.research.google.com/github/FarshidRA/farbot/blob/main/Welcome_To_Colab.ipynb\" target=\"_parent\"><img src=\"https://colab.research.google.com/assets/colab-badge.svg\" alt=\"Open In Colab\"/></a>"
      ]
    },
    {
      "cell_type": "code",
      "source": [
        "from transformers import GPT2LMHeadModel, GPT2Tokenizer, Trainer, TrainingArguments, DataCollatorForLanguageModeling\n",
        "from datasets import load_dataset\n",
        "\n",
        "# بارگذاری مدل و توکنایزر GPT-2\n",
        "model_name = \"gpt2\"\n",
        "model = GPT2LMHeadModel.from_pretrained(model_name)\n",
        "tokenizer = GPT2Tokenizer.from_pretrained(model_name)\n",
        "\n",
        "# تنظیم pad_token\n",
        "tokenizer.pad_token = tokenizer.eos_token\n",
        "model.config.pad_token_id = tokenizer.pad_token_id\n",
        "\n",
        "# بارگذاری داده‌های آموزشی\n",
        "dataset = load_dataset(\"wikitext\", \"wikitext-2-raw-v1\")\n",
        "\n",
        "# توکن کردن داده‌ها\n",
        "def tokenize_function(examples):\n",
        "    encodings = tokenizer(examples[\"text\"], truncation=True, padding=\"max_length\", max_length=512)\n",
        "    return encodings\n",
        "\n",
        "tokenized_datasets = dataset.map(tokenize_function, batched=True, remove_columns=[\"text\"])\n",
        "\n",
        "# تنظیمات آموزش\n",
        "training_args = TrainingArguments(\n",
        "    output_dir=\"./gpt2-finetuned\",  # محل ذخیره مدل آموزش‌دیده\n",
        "    overwrite_output_dir=True,\n",
        "    num_train_epochs=3,  # تعداد دوره‌های آموزش\n",
        "    per_device_train_batch_size=2,  # اندازه batch\n",
        "    save_steps=10_000,\n",
        "    save_total_limit=2,\n",
        "    logging_dir=\"./logs\",  # محل ذخیره لاگ‌ها\n",
        "    logging_steps=500,\n",
        "    report_to=\"none\",  # جلوگیری از ارسال لاگ به WandB\n",
        ")\n",
        "\n",
        "# collator برای مدیریت padding\n",
        "data_collator = DataCollatorForLanguageModeling(tokenizer=tokenizer, mlm=False)\n",
        "\n",
        "# ایجاد Trainer\n",
        "trainer = Trainer(\n",
        "    model=model,\n",
        "    args=training_args,\n",
        "    train_dataset=tokenized_datasets[\"train\"],\n",
        "    data_collator=data_collator,\n",
        ")\n",
        "\n",
        "# شروع آموزش\n",
        "trainer.train()\n"
      ],
      "metadata": {
        "id": "kKoexOD4cAUZ"
      },
      "execution_count": null,
      "outputs": []
    }
  ],
  "metadata": {
    "colab": {
      "name": "Welcome To Colab",
      "provenance": [],
      "include_colab_link": true
    },
    "kernelspec": {
      "display_name": "Python 3",
      "name": "python3"
    }
  },
  "nbformat": 4,
  "nbformat_minor": 0
}